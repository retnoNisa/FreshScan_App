{
  "cells": [
    {
      "cell_type": "code",
      "execution_count": null,
      "metadata": {
        "id": "lSvpoJDediQS"
      },
      "outputs": [],
      "source": [
        "import os\n",
        "import tensorflow as tf\n",
        "from tensorflow.keras.preprocessing.image import ImageDataGenerator\n",
        "from tensorflow.keras import layers\n",
        "from tensorflow.keras import Model\n",
        "from tensorflow.keras.applications.inception_v3 import InceptionV3\n",
        "from tensorflow.keras.optimizers import RMSprop"
      ]
    },
    {
      "cell_type": "code",
      "execution_count": null,
      "metadata": {
        "colab": {
          "base_uri": "https://localhost:8080/"
        },
        "id": "9vQlPT2m19En",
        "outputId": "60ae824b-85ef-41f1-ffd2-d4867b737a6d"
      },
      "outputs": [
        {
          "name": "stdout",
          "output_type": "stream",
          "text": [
            "Mounted at /content/drive/\n"
          ]
        }
      ],
      "source": [
        "import zipfile\n",
        "from google.colab import drive\n",
        "\n",
        "drive.mount('/content/drive/')\n",
        "\n"
      ]
    },
    {
      "cell_type": "code",
      "execution_count": null,
      "metadata": {
        "id": "dVECmkJV22pB"
      },
      "outputs": [],
      "source": [
        "train_dir ='/content/drive/MyDrive/capstone/new data/train'\n",
        "valid_dir = '/content/drive/MyDrive/capstone/new data/valid'"
      ]
    },
    {
      "cell_type": "code",
      "execution_count": null,
      "metadata": {
        "colab": {
          "base_uri": "https://localhost:8080/"
        },
        "id": "j0N-zB7ndj0N",
        "outputId": "e47f006e-f1f8-4e95-8a84-07e2787f9052"
      },
      "outputs": [
        {
          "name": "stdout",
          "output_type": "stream",
          "text": [
            "Found 6499 images belonging to 2 classes.\n",
            "Found 1849 images belonging to 2 classes.\n"
          ]
        }
      ],
      "source": [
        "train_datagen = ImageDataGenerator(rescale = 1/255)\n",
        "train_generator= train_datagen.flow_from_directory(train_dir,target_size = (150,150),class_mode ='binary')\n",
        "valid_datagen = ImageDataGenerator(rescale = 1/255)\n",
        "valid_generator= valid_datagen.flow_from_directory(valid_dir,target_size = (150,150),class_mode ='binary')\n",
        "\n",
        "\n"
      ]
    },
    {
      "cell_type": "code",
      "execution_count": null,
      "metadata": {
        "id": "l3bIlZK9ewqp"
      },
      "outputs": [],
      "source": [
        "inceptionv3 = 'https://storage.googleapis.com/mledu-datasets/inception_v3_weights_tf_dim_ordering_tf_kernels_notop.h5'\n",
        "urllib.request.urlretrieve(inceptionv3, 'inception_v3_weights_tf_dim_ordering_tf_kernels_notop.h5')\n",
        "local_weights_file = 'inception_v3_weights_tf_dim_ordering_tf_kernels_notop.h5'\n",
        "\n",
        "pre_trained_model =  InceptionV3(input_shape = (150,150,3), include_top = False, weights = None)\n",
        "pre_trained_model.load_weights(local_weights_file)\n",
        "\n",
        "for layer in pre_trained_model.layers:\n",
        "  layer.trainable = False\n",
        "last_layer =  pre_trained_model.get_layer('mixed7')"
      ]
    },
    {
      "cell_type": "code",
      "execution_count": null,
      "metadata": {
        "id": "URGG6w6ZeRxz"
      },
      "outputs": [],
      "source": [
        "x = layers.Flatten()(last_layer.output)\n",
        "x = layers.Dense(512, activation ='relu')(x)\n",
        "x = layers.Dense(1, activation='sigmoid')(x)\n"
      ]
    },
    {
      "cell_type": "code",
      "execution_count": null,
      "metadata": {
        "id": "Z6JrRPhselxk"
      },
      "outputs": [],
      "source": [
        "model = Model(pre_trained_model.input, x)"
      ]
    },
    {
      "cell_type": "code",
      "execution_count": null,
      "metadata": {
        "colab": {
          "base_uri": "https://localhost:8080/"
        },
        "id": "Zk5Au6OWPe_b",
        "outputId": "fb64b46f-aba7-4e82-d76e-6bfeb1cb05e1"
      },
      "outputs": [
        {
          "name": "stderr",
          "output_type": "stream",
          "text": [
            "WARNING:absl:`lr` is deprecated in Keras optimizer, please use `learning_rate` or use the legacy optimizer, e.g.,tf.keras.optimizers.legacy.RMSprop.\n"
          ]
        }
      ],
      "source": [
        "model.compile(optimizer=RMSprop(lr=0.0001),\n",
        "                  loss='binary_crossentropy',\n",
        "                  metrics=['acc'])"
      ]
    },
    {
      "cell_type": "code",
      "execution_count": null,
      "metadata": {
        "colab": {
          "base_uri": "https://localhost:8080/"
        },
        "id": "uRXlkpuaPhFG",
        "outputId": "6e01b791-ced8-4410-ce72-d1638acccbb0"
      },
      "outputs": [
        {
          "name": "stdout",
          "output_type": "stream",
          "text": [
            "Epoch 1/10\n",
            "5/5 [==============================] - 286s 67s/step - loss: 6.3329 - acc: 0.4938 - val_loss: 0.5350 - val_acc: 0.7242\n",
            "Epoch 2/10\n",
            "5/5 [==============================] - 95s 23s/step - loss: 0.8003 - acc: 0.7125 - val_loss: 0.4544 - val_acc: 0.7783\n",
            "Epoch 3/10\n",
            "5/5 [==============================] - 89s 22s/step - loss: 0.4506 - acc: 0.8000 - val_loss: 0.3643 - val_acc: 0.8421\n",
            "Epoch 4/10\n",
            "5/5 [==============================] - 89s 22s/step - loss: 0.4965 - acc: 0.7750 - val_loss: 0.3557 - val_acc: 0.8442\n",
            "Epoch 5/10\n",
            "5/5 [==============================] - 83s 20s/step - loss: 0.3466 - acc: 0.8687 - val_loss: 0.3948 - val_acc: 0.8064\n",
            "Epoch 6/10\n",
            "5/5 [==============================] - 82s 20s/step - loss: 0.3664 - acc: 0.8188 - val_loss: 0.4442 - val_acc: 0.7994\n",
            "Epoch 7/10\n",
            "5/5 [==============================] - 89s 22s/step - loss: 0.3181 - acc: 0.8813 - val_loss: 0.5208 - val_acc: 0.7491\n",
            "Epoch 8/10\n",
            "5/5 [==============================] - 91s 22s/step - loss: 0.6429 - acc: 0.7125 - val_loss: 0.2792 - val_acc: 0.8783\n",
            "Epoch 9/10\n",
            "5/5 [==============================] - 82s 20s/step - loss: 0.2584 - acc: 0.8562 - val_loss: 0.2511 - val_acc: 0.8999\n",
            "Epoch 10/10\n",
            "5/5 [==============================] - 84s 21s/step - loss: 0.2914 - acc: 0.8562 - val_loss: 0.3934 - val_acc: 0.8221\n"
          ]
        },
        {
          "data": {
            "text/plain": [
              "<keras.src.callbacks.History at 0x7d36f5ed9cf0>"
            ]
          },
          "execution_count": 8,
          "metadata": {},
          "output_type": "execute_result"
        }
      ],
      "source": [
        "model.fit(train_generator, validation_data = valid_generator, steps_per_epoch = 5, epochs = 10, verbose = 1)"
      ]
    },
    {
      "cell_type": "code",
      "execution_count": null,
      "metadata": {
        "id": "kUuFyX_QVPo9"
      },
      "outputs": [],
      "source": [
        "#model lain\n",
        "\n",
        "model = tf.keras.Sequential([\n",
        "    tf.keras.layers.Conv2D(16, (3,3), activation = 'relu', padding ='same', input_shape = (150,150,3)),\n",
        "    tf.keras.layers.MaxPooling2D(2,2),\n",
        "    tf.keras.layers.Conv2D(32, (3,3), activation = 'relu', padding ='same'),\n",
        "    tf.keras.layers.MaxPooling2D(2,2),\n",
        "    tf.keras.layers.Conv2D(64, (3,3), activation = 'relu', padding ='same'),\n",
        "    tf.keras.layers.Flatten(),\n",
        "    tf.keras.layers.Dense(128, activation ='relu'),\n",
        "    tf.keras.layers.Dense(64, activation = 'relu'),\n",
        "    tf.keras.layers.Dense(1, activation = 'sigmoid')\n",
        "])"
      ]
    },
    {
      "cell_type": "code",
      "execution_count": null,
      "metadata": {
        "colab": {
          "background_save": true,
          "base_uri": "https://localhost:8080/"
        },
        "id": "j7wXPUMDZXtu",
        "outputId": "67dad6ea-4db1-47b2-9206-903d7a009876"
      },
      "outputs": [
        {
          "name": "stdout",
          "output_type": "stream",
          "text": [
            "Epoch 1/20\n",
            "204/204 [==============================] - 3998s 19s/step - loss: 0.6672 - accuracy: 0.6609 - val_loss: 0.6068 - val_accuracy: 0.6674\n",
            "Epoch 2/20\n",
            "204/204 [==============================] - 250s 1s/step - loss: 0.4326 - accuracy: 0.8101 - val_loss: 0.3918 - val_accuracy: 0.8237\n",
            "Epoch 3/20\n",
            "204/204 [==============================] - 244s 1s/step - loss: 0.3384 - accuracy: 0.8631 - val_loss: 0.3297 - val_accuracy: 0.8659\n",
            "Epoch 4/20\n",
            "204/204 [==============================] - 259s 1s/step - loss: 0.2702 - accuracy: 0.8908 - val_loss: 0.3664 - val_accuracy: 0.8588\n",
            "Epoch 5/20\n",
            "204/204 [==============================] - 268s 1s/step - loss: 0.2101 - accuracy: 0.9148 - val_loss: 0.3428 - val_accuracy: 0.8643\n",
            "Epoch 6/20\n",
            "204/204 [==============================] - 241s 1s/step - loss: 0.1593 - accuracy: 0.9363 - val_loss: 0.3293 - val_accuracy: 0.8837\n",
            "Epoch 7/20\n",
            "204/204 [==============================] - 255s 1s/step - loss: 0.1196 - accuracy: 0.9566 - val_loss: 0.3176 - val_accuracy: 0.8826\n",
            "Epoch 8/20\n",
            "204/204 [==============================] - 261s 1s/step - loss: 0.0901 - accuracy: 0.9688 - val_loss: 0.4066 - val_accuracy: 0.9010\n",
            "Epoch 9/20\n",
            "204/204 [==============================] - 239s 1s/step - loss: 0.0681 - accuracy: 0.9777 - val_loss: 0.3751 - val_accuracy: 0.8983\n",
            "Epoch 10/20\n",
            "204/204 [==============================] - 270s 1s/step - loss: 0.1002 - accuracy: 0.9786 - val_loss: 0.3865 - val_accuracy: 0.8880\n",
            "Epoch 11/20\n",
            "204/204 [==============================] - 242s 1s/step - loss: 0.0521 - accuracy: 0.9835 - val_loss: 0.9931 - val_accuracy: 0.8231\n",
            "Epoch 12/20\n",
            "204/204 [==============================] - 248s 1s/step - loss: 0.0502 - accuracy: 0.9857 - val_loss: 0.5664 - val_accuracy: 0.8880\n",
            "Epoch 13/20\n",
            "204/204 [==============================] - 238s 1s/step - loss: 0.0348 - accuracy: 0.9880 - val_loss: 0.7658 - val_accuracy: 0.8972\n",
            "Epoch 14/20\n",
            "204/204 [==============================] - 248s 1s/step - loss: 0.0415 - accuracy: 0.9914 - val_loss: 0.5978 - val_accuracy: 0.8908\n",
            "Epoch 15/20\n",
            "204/204 [==============================] - 256s 1s/step - loss: 0.0368 - accuracy: 0.9891 - val_loss: 1.0290 - val_accuracy: 0.8551\n",
            "Epoch 16/20\n",
            "204/204 [==============================] - 256s 1s/step - loss: 0.0299 - accuracy: 0.9920 - val_loss: 0.7973 - val_accuracy: 0.8843\n",
            "Epoch 17/20\n",
            "204/204 [==============================] - 246s 1s/step - loss: 0.0466 - accuracy: 0.9897 - val_loss: 0.7427 - val_accuracy: 0.8853\n",
            "Epoch 18/20\n",
            "204/204 [==============================] - 240s 1s/step - loss: 0.0254 - accuracy: 0.9945 - val_loss: 0.7651 - val_accuracy: 0.8962\n",
            "Epoch 19/20\n",
            "204/204 [==============================] - 248s 1s/step - loss: 0.0144 - accuracy: 0.9960 - val_loss: 1.0417 - val_accuracy: 0.8902\n",
            "Epoch 20/20\n",
            "204/204 [==============================] - 241s 1s/step - loss: 0.0286 - accuracy: 0.9929 - val_loss: 0.8200 - val_accuracy: 0.8908\n"
          ]
        },
        {
          "data": {
            "text/plain": [
              "<keras.src.callbacks.History at 0x7eb488581d80>"
            ]
          },
          "execution_count": 13,
          "metadata": {},
          "output_type": "execute_result"
        }
      ],
      "source": [
        "model.compile(loss = 'binary_crossentropy', optimizer = RMSprop(learning_rate =0.001), metrics = ['accuracy'])\n",
        "model.fit(train_generator, validation_data = valid_generator, epochs=10, verbose=1)"
      ]
    },
    {
      "cell_type": "code",
      "execution_count": null,
      "metadata": {
        "id": "mnfvfJAWbfBy"
      },
      "outputs": [],
      "source": [
        "from google.colab import files\n",
        "from tensorflow.keras.utils import load_img, img_to_array\n",
        "import numpy as np\n",
        "\n",
        "uploaded = files.upload()\n",
        "\n",
        "for fn in uploaded.keys():\n",
        "\n",
        "  # predicting images\n",
        "  path = '/content/' + fn\n",
        "  img = load_img(path, target_size=(150, 150))\n",
        "  x = img_to_array(img)\n",
        "  x /= 255\n",
        "  x = np.expand_dims(x, axis=0)\n",
        "\n",
        "  images = np.vstack([x])\n",
        "  classes = model.predict(images, batch_size=10)\n",
        "  print(classes[0])\n",
        "  if classes[0]>0.5:\n",
        "    print(fn + \" is a fresh\")\n",
        "  else:\n",
        "    print(fn + \" is a rotten\")\n"
      ]
    }
  ],
  "metadata": {
    "accelerator": "GPU",
    "colab": {
      "gpuType": "T4",
      "provenance": []
    },
    "kernelspec": {
      "display_name": "Python 3",
      "name": "python3"
    },
    "language_info": {
      "name": "python"
    }
  },
  "nbformat": 4,
  "nbformat_minor": 0
}